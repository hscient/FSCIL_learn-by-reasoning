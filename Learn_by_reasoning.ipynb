{
  "nbformat": 4,
  "nbformat_minor": 0,
  "metadata": {
    "colab": {
      "private_outputs": true,
      "provenance": [],
      "toc_visible": true,
      "gpuType": "T4",
      "authorship_tag": "ABX9TyMqj1CZtjkHSKEU5B30otXw",
      "include_colab_link": true
    },
    "kernelspec": {
      "name": "python3",
      "display_name": "Python 3"
    },
    "language_info": {
      "name": "python"
    },
    "accelerator": "GPU"
  },
  "cells": [
    {
      "cell_type": "markdown",
      "metadata": {
        "id": "view-in-github",
        "colab_type": "text"
      },
      "source": [
        "<a href=\"https://colab.research.google.com/github/hscient/FSCIL_learn-by-reasoning/blob/main/Learn_by_reasoning.ipynb\" target=\"_parent\"><img src=\"https://colab.research.google.com/assets/colab-badge.svg\" alt=\"Open In Colab\"/></a>"
      ]
    },
    {
      "cell_type": "markdown",
      "source": [],
      "metadata": {
        "id": "Tsj1s3VzBydv"
      }
    },
    {
      "cell_type": "markdown",
      "source": [
        "## Using on Colab\n",
        "\n",
        "> **Tip:** Set your Colab runtime to GPU: **Runtime → Change runtime type → Hardware accelerator: GPU**.\n",
        "\n",
        "### 1) Register `GITHUB_TOKEN` as a Colab user secret\n",
        "\n",
        "- Create a GitHub Personal Access Token (with at least **repo** scope).\n",
        "- In Colab, open the left sidebar and click the **🔑 Secrets** panel (or **Tools → User secrets**).\n",
        "- Click **Add new secret**, set **Name** to `GITHUB_TOKEN`, paste your token, and **Save**.\n",
        "- You’ll access it in code via `google.colab.userdata`.\n",
        "\n",
        "> Do **not** hard‑code your token in notebooks. Use Colab secrets as shown below."
      ],
      "metadata": {
        "id": "86nGwAGvB6C3"
      }
    },
    {
      "cell_type": "markdown",
      "source": [
        "### 2) Mount Google Drive and clone the repo (using the secret)"
      ],
      "metadata": {
        "id": "ZMtgA91eCC24"
      }
    },
    {
      "cell_type": "code",
      "execution_count": null,
      "metadata": {
        "id": "prDVdGWDBkmD"
      },
      "outputs": [],
      "source": [
        "from google.colab import userdata\n",
        "github_token = userdata.get('GITHUB_TOKEN')  # reads the secret named GITHUB_TOKEN\n",
        "\n",
        "# Mount Google Drive\n",
        "from google.colab import drive\n",
        "drive.mount('/content/drive')\n",
        "\n",
        "## (Optional) Remove any previous copy\n",
        "# !rm -rf /content/drive/MyDrive/FSCIL_learn-by-reasoning\n",
        "\n",
        "## Clone using the token\n",
        "%cd /content\n",
        "!git clone https://{github_token}@github.com/user-name/FSCIL_learn-by-reasoning.git \\\n",
        "  /content/drive/MyDrive/FSCIL_learn-by-reasoning"
      ]
    },
    {
      "cell_type": "markdown",
      "source": [
        "### 3) Pull the latest code"
      ],
      "metadata": {
        "id": "9L-txJBMCdCc"
      }
    },
    {
      "cell_type": "code",
      "source": [
        "%cd /content/drive/MyDrive/FSCIL_learn-by-reasoning\n",
        "!git checkout main_reset"
      ],
      "metadata": {
        "id": "Pwttqfx4Ccf0"
      },
      "execution_count": null,
      "outputs": []
    },
    {
      "cell_type": "code",
      "source": [
        "!git pull"
      ],
      "metadata": {
        "id": "GdDqT13YS38b"
      },
      "execution_count": null,
      "outputs": []
    },
    {
      "cell_type": "markdown",
      "source": [
        "### 4) Base training example"
      ],
      "metadata": {
        "id": "abfuKqiYCg5M"
      }
    },
    {
      "cell_type": "code",
      "source": [
        "!python main.py base \\\n",
        " --dataset cifar100 \\\n",
        " --epochs 500 \\\n",
        " --backbone_model resnet18 \\\n",
        " --batch_size 128 \\\n",
        " --pt_backbone checkpoints/cifar100/backbone_18.pt \\\n",
        " --pt_classifier checkpoints/cifar100/classifier_18.pt \\\n",
        " --pt_proto checkpoints/cifar100/prototype_18.pt \\\n",
        " --num_workers 2 \\\n",
        " --show_config \\\n",
        " --save_config ./cfg_after_cli.json\n",
        "\n",
        "  # the default path is checkpoints/dataname/backbone_pt_last.pt\n",
        "  # the default path is checkpoints/dataname/classifier_pt_last.pt\n",
        "  # the default path is checkpoints/dataname/proto_pt_last.pt"
      ],
      "metadata": {
        "id": "ODNhAD5UCleO"
      },
      "execution_count": null,
      "outputs": []
    },
    {
      "cell_type": "markdown",
      "source": [
        "### 5) BIAG training example"
      ],
      "metadata": {
        "id": "354qo8E4DBYS"
      }
    },
    {
      "cell_type": "code",
      "source": [
        "!python main.py biag \\\n",
        "  --dataset cifar100 \\\n",
        "  --epochs 50 \\\n",
        "  --batch_size 64 \\\n",
        "  --num_workers 4 \\\n",
        "  --pt_backbone checkpoints/cifar100/backbone_18.pt \\\n",
        "  --pt_classifier checkpoints/cifar100/classifier_18.pt \\\n",
        "  --pt_proto checkpoints/cifar100/prototype_18.pt \\\n",
        "  --biag checkpoints/cifar100/biag_18_last.pt \\\n",
        "  --show_config"
      ],
      "metadata": {
        "id": "635d1U6gDFDA"
      },
      "execution_count": null,
      "outputs": []
    },
    {
      "cell_type": "markdown",
      "source": [
        "### 6) Incremental session example"
      ],
      "metadata": {
        "id": "K7nvPpk1DIAQ"
      }
    },
    {
      "cell_type": "code",
      "source": [
        "!python main.py incremental_run \\\n",
        "  --dataset cifar100 \\\n",
        "  --backbone_model resnet18 \\\n",
        "  --biag checkpoints/cifar100/biag_18_last.pt \\\n",
        "  --pt_backbone checkpoints/cifar100/backbone_18.pt \\\n",
        "  --pt_classifier checkpoints/cifar100/classifier_18.pt \\\n",
        "  --pt_proto checkpoints/cifar100/prototype_18.pt"
      ],
      "metadata": {
        "id": "3ClIjG70DKN4"
      },
      "execution_count": null,
      "outputs": []
    }
  ]
}